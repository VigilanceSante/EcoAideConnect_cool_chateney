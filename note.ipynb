{
 "cells": [
  {
   "cell_type": "code",
   "execution_count": 43,
   "metadata": {},
   "outputs": [
    {
     "name": "stdout",
     "output_type": "stream",
     "text": [
      "{'message': 'success', 'lat': 48.8566, 'lng': 2.3522, 'data': [{'timezone': 'Europe/Paris', 'Species': {'Grass': {'Grass / Poaceae': 0}, 'Others': 2, 'Tree': {'Alder': 0, 'Birch': 0, 'Cypress': 0, 'Elm': 0, 'Hazel': 0, 'Oak': 0, 'Pine': 0, 'Plane': 0, 'Poplar / Cottonwood': 0}, 'Weed': {'Chenopod': 2, 'Mugwort': 1, 'Nettle': 28, 'Ragweed': 9}}, 'Risk': {'grass_pollen': 'Low', 'tree_pollen': 'Low', 'weed_pollen': 'Moderate'}, 'Count': {'grass_pollen': 0, 'tree_pollen': 0, 'weed_pollen': 42}, 'updatedAt': '2024-09-29T16:00:00.000Z'}]}\n"
     ]
    }
   ],
   "source": [
    "import requests\n",
    "\n",
    "API_KEY = 'VOTRE_CLÉ_API_AMBEE'\n",
    "latitude = 48.8566   # Exemple : Paris\n",
    "longitude = 2.3522\n",
    "\n",
    "url = f'https://api.ambeedata.com/latest/pollen/by-lat-lng'\n",
    "headers = {\n",
    "    'x-api-key': '1abda428d8ab2136e2b6e8a85131ff222c3551f66c2e756202c49a27914dec09',\n",
    "    'Content-type': 'application/json'\n",
    "}\n",
    "params = {\n",
    "    'lat': latitude,\n",
    "    'lng': longitude\n",
    "}\n",
    "\n",
    "response = requests.get(url, headers=headers, params=params)\n",
    "\n",
    "if response.status_code == 200:\n",
    "    data = response.json()\n",
    "    print(data)\n",
    "else:\n",
    "    print(f\"Erreur: {response.status_code} - {response.text}\")"
   ]
  },
  {
   "cell_type": "code",
   "execution_count": 28,
   "metadata": {},
   "outputs": [
    {
     "name": "stdout",
     "output_type": "stream",
     "text": [
      "<Response [200]>\n"
     ]
    }
   ],
   "source": [
    "print(response)"
   ]
  },
  {
   "cell_type": "code",
   "execution_count": 8,
   "metadata": {},
   "outputs": [
    {
     "name": "stdout",
     "output_type": "stream",
     "text": [
      "{\n",
      "    \"datetime\": \"2024-10-07 09:00:00\",\n",
      "    \"temperature\": 15.62,\n",
      "    \"feels_like\": 15.25,\n",
      "    \"weather\": \"overcast clouds\",\n",
      "    \"wind_speed\": 3.32,\n",
      "    \"humidity\": 77\n",
      "}\n"
     ]
    }
   ],
   "source": [
    "import os\n",
    "import requests\n",
    "import json\n",
    "import logging\n",
    "from datetime import datetime\n",
    "\n",
    "# Set up logging\n",
    "logger = logging.getLogger(__name__)\n",
    "logging.basicConfig(level=logging.INFO)\n",
    "\n",
    "# Mock the OPENWEATHER_API_KEY for testing purposes\n",
    "os.environ['OPENWEATHER_API_KEY'] = \"1d548abe1933ffd33f6a2d5eed806928\"  # Replace with your actual API key if you want to test live\n",
    "\n",
    "# API request details\n",
    "url = f\"http://api.openweathermap.org/data/2.5/forecast?lat=48.7651&lon=2.2666&appid={os.environ['OPENWEATHER_API_KEY']}&units=metric\"\n",
    "\n",
    "try:\n",
    "    # Make the request\n",
    "    response = requests.get(url)\n",
    "    response.raise_for_status()\n",
    "\n",
    "    # Parse the response\n",
    "    data = response.json()\n",
    "\n",
    "    # Extract forecast data for the next hour\n",
    "    if \"list\" in data:\n",
    "        next_hour_data = data[\"list\"][0]  \n",
    "\n",
    "        # Formatting the output for easier reading\n",
    "        next_hour_info = {\n",
    "            \"datetime\": next_hour_data.get(\"dt_txt\", \"N/A\"),\n",
    "            \"temperature\": next_hour_data[\"main\"].get(\"temp\", \"N/A\"),\n",
    "            \"feels_like\": next_hour_data[\"main\"].get(\"feels_like\", \"N/A\"),\n",
    "            \"weather\": next_hour_data[\"weather\"][0].get(\"description\", \"N/A\"),\n",
    "            \"wind_speed\": next_hour_data[\"wind\"].get(\"speed\", \"N/A\"),\n",
    "            \"humidity\": next_hour_data[\"main\"].get(\"humidity\", \"N/A\"),\n",
    "        }\n",
    "\n",
    "        # Print the extracted information\n",
    "        print(json.dumps(next_hour_info, indent=4))\n",
    "\n",
    "    else:\n",
    "        logger.error(\"No forecast data available.\")\n",
    "\n",
    "except requests.exceptions.RequestException as e:\n",
    "    logger.error(f\"An error occurred while making the request: {e}\")"
   ]
  },
  {
   "cell_type": "code",
   "execution_count": 11,
   "metadata": {},
   "outputs": [
    {
     "name": "stdout",
     "output_type": "stream",
     "text": [
      "{'plus1H': {'datetime': '2024-10-07 09:00:00', 'temperature': 16.37, 'feels_like': 16.05, 'weather': 'overcast clouds', 'wind_speed': 2.8, 'humidity': 76}, '+24H': {'datetime': '2024-10-10 09:00:00', 'temperature': 12.75, 'feels_like': 12.27, 'weather': 'light rain', 'wind_speed': 6.57, 'humidity': 84}}\n"
     ]
    }
   ],
   "source": [
    "import os\n",
    "\n",
    "import requests\n",
    "import json\n",
    "import logging\n",
    "from typing import Dict, Any\n",
    "\n",
    "\n",
    "# Set up logging\n",
    "logger = logging.getLogger(__name__)\n",
    "\n",
    "class WeatherData:\n",
    "    def __init__(self, lat: float = 48.7651, lon: float = 2.2666):\n",
    "        self.lat = lat\n",
    "        self.lon = lon\n",
    "        self.api_key = os.getenv('OPENWEATHER_API_KEY')\n",
    "\n",
    "    def set_location(self, lat: float, lon: float):\n",
    "        self.lat = lat\n",
    "        self.lon = lon\n",
    "\n",
    "    def get_weather_forecast(self) -> Dict[str, Any]:\n",
    "        if not self.api_key:\n",
    "            logger.error(\"OpenWeather API key is not set.\")\n",
    "            return self._default_weather_response()\n",
    "\n",
    "        url = f\"http://api.openweathermap.org/data/2.5/forecast?lat={self.lat}&lon={self.lon}&appid={self.api_key}&units=metric\"\n",
    "\n",
    "        try:\n",
    "            # Send the request\n",
    "            response = requests.get(url)\n",
    "            response.raise_for_status()\n",
    "            weather_data = response.json()\n",
    "\n",
    "            # Extract +1 hour and +24 hours forecast data\n",
    "            list_data = weather_data.get('list', [])\n",
    "            if len(list_data) < 24:\n",
    "                logger.error(\"Not enough forecast data available to extract +1H and +24H data.\")\n",
    "                return self._default_weather_response()\n",
    "\n",
    "            next_hour_data = list_data[0]\n",
    "            next_24_hour_data = list_data[24]  # Assuming each forecast is at 3-hour intervals, index 7 represents approximately +24 hours\n",
    "\n",
    "            next_hour_info = {\n",
    "                \"datetime\": next_hour_data.get(\"dt_txt\", \"N/A\"),\n",
    "                \"temperature\": next_hour_data[\"main\"].get(\"temp\", \"N/A\"),\n",
    "                \"feels_like\": next_hour_data[\"main\"].get(\"feels_like\", \"N/A\"),\n",
    "                \"weather\": next_hour_data[\"weather\"][0].get(\"description\", \"N/A\"),\n",
    "                \"wind_speed\": next_hour_data[\"wind\"].get(\"speed\", \"N/A\"),\n",
    "                \"humidity\": next_hour_data[\"main\"].get(\"humidity\", \"N/A\"),\n",
    "            }\n",
    "\n",
    "            next_24_hour_info = {\n",
    "                \"datetime\": next_24_hour_data.get(\"dt_txt\", \"N/A\"),\n",
    "                \"temperature\": next_24_hour_data[\"main\"].get(\"temp\", \"N/A\"),\n",
    "                \"feels_like\": next_24_hour_data[\"main\"].get(\"feels_like\", \"N/A\"),\n",
    "                \"weather\": next_24_hour_data[\"weather\"][0].get(\"description\", \"N/A\"),\n",
    "                \"wind_speed\": next_24_hour_data[\"wind\"].get(\"speed\", \"N/A\"),\n",
    "                \"humidity\": next_24_hour_data[\"main\"].get(\"humidity\", \"N/A\"),\n",
    "            }\n",
    "\n",
    "            # Return formatted weather data for +1 hour and +24 hours\n",
    "            return {\n",
    "                'plus1H': next_hour_info,\n",
    "                '+24H': next_24_hour_info\n",
    "            }\n",
    "\n",
    "        except requests.RequestException as e:\n",
    "            logger.error(f\"HTTP Request failed: {e}\")\n",
    "            return self._default_weather_response()\n",
    "\n",
    "# Test \n",
    "weather_data = WeatherData()\n",
    "weather_data.get_weather_forecast()\n",
    "weather_data.set_location(48.8566, 2.3522)\n",
    "weather_data.get_weather_forecast()\n",
    "print(weather_data.get_weather_forecast())\n"
   ]
  },
  {
   "cell_type": "code",
   "execution_count": null,
   "metadata": {},
   "outputs": [],
   "source": [
    "import requests\n",
    "# import keras\n",
    "\n"
   ]
  }
 ],
 "metadata": {
  "kernelspec": {
   "display_name": "env",
   "language": "python",
   "name": "python3"
  },
  "language_info": {
   "codemirror_mode": {
    "name": "ipython",
    "version": 3
   },
   "file_extension": ".py",
   "mimetype": "text/x-python",
   "name": "python",
   "nbconvert_exporter": "python",
   "pygments_lexer": "ipython3",
   "version": "3.12.7"
  }
 },
 "nbformat": 4,
 "nbformat_minor": 2
}
