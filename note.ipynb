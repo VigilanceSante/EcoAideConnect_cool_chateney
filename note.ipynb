{
 "cells": [
  {
   "cell_type": "code",
   "execution_count": 43,
   "metadata": {},
   "outputs": [
    {
     "name": "stdout",
     "output_type": "stream",
     "text": [
      "{'message': 'success', 'lat': 48.8566, 'lng': 2.3522, 'data': [{'timezone': 'Europe/Paris', 'Species': {'Grass': {'Grass / Poaceae': 0}, 'Others': 2, 'Tree': {'Alder': 0, 'Birch': 0, 'Cypress': 0, 'Elm': 0, 'Hazel': 0, 'Oak': 0, 'Pine': 0, 'Plane': 0, 'Poplar / Cottonwood': 0}, 'Weed': {'Chenopod': 2, 'Mugwort': 1, 'Nettle': 28, 'Ragweed': 9}}, 'Risk': {'grass_pollen': 'Low', 'tree_pollen': 'Low', 'weed_pollen': 'Moderate'}, 'Count': {'grass_pollen': 0, 'tree_pollen': 0, 'weed_pollen': 42}, 'updatedAt': '2024-09-29T16:00:00.000Z'}]}\n"
     ]
    }
   ],
   "source": [
    "import requests\n",
    "\n",
    "API_KEY = 'VOTRE_CLÉ_API_AMBEE'\n",
    "latitude = 48.8566   # Exemple : Paris\n",
    "longitude = 2.3522\n",
    "\n",
    "url = f'https://api.ambeedata.com/latest/pollen/by-lat-lng'\n",
    "headers = {\n",
    "    'x-api-key': '1abda428d8ab2136e2b6e8a85131ff222c3551f66c2e756202c49a27914dec09',\n",
    "    'Content-type': 'application/json'\n",
    "}\n",
    "params = {\n",
    "    'lat': latitude,\n",
    "    'lng': longitude\n",
    "}\n",
    "\n",
    "response = requests.get(url, headers=headers, params=params)\n",
    "\n",
    "if response.status_code == 200:\n",
    "    data = response.json()\n",
    "    print(data)\n",
    "else:\n",
    "    print(f\"Erreur: {response.status_code} - {response.text}\")"
   ]
  },
  {
   "cell_type": "code",
   "execution_count": 28,
   "metadata": {},
   "outputs": [
    {
     "name": "stdout",
     "output_type": "stream",
     "text": [
      "<Response [200]>\n"
     ]
    }
   ],
   "source": [
    "print(response)"
   ]
  },
  {
   "cell_type": "code",
   "execution_count": 47,
   "metadata": {},
   "outputs": [
    {
     "name": "stdout",
     "output_type": "stream",
     "text": [
      "Tree Pollen Risk: Low\n"
     ]
    }
   ],
   "source": [
    "import requests\n",
    "\n",
    "API_KEY = 'YOUR_API_KEY'  # Replace 'YOUR_API_KEY' with your actual Ambee API key\n",
    "latitude = 48.7643   # Latitude for Châtenay-Malabry\n",
    "longitude = 2.2901   # Longitude for Châtenay-Malabry\n",
    "\n",
    "url = 'https://api.ambeedata.com/latest/pollen/by-lat-lng'\n",
    "headers = {\n",
    "    'x-api-key': API_KEY,\n",
    "    'Content-type': 'application/json'\n",
    "}\n",
    "params = {\n",
    "    'lat': latitude,\n",
    "    'lng': longitude\n",
    "}\n",
    "\n",
    "response = requests.get(url, headers=headers, params=params)\n",
    "\n",
    "if response.status_code == 200:\n",
    "    data = response.json()\n",
    "    # Extract the tree pollen risk from the 'Risk' dictionary\n",
    "    tree_pollen_risk = data['data'][0]['Risk']['tree_pollen'] if data['data'] else \"No data available\"\n",
    "    print(f\"Tree Pollen Risk: {tree_pollen_risk}\")\n",
    "else:\n",
    "    print(f\"Error: {response.status_code} - {response.text}\")"
   ]
  }
 ],
 "metadata": {
  "kernelspec": {
   "display_name": ".env",
   "language": "python",
   "name": "python3"
  },
  "language_info": {
   "codemirror_mode": {
    "name": "ipython",
    "version": 3
   },
   "file_extension": ".py",
   "mimetype": "text/x-python",
   "name": "python",
   "nbconvert_exporter": "python",
   "pygments_lexer": "ipython3",
   "version": "3.12.6"
  }
 },
 "nbformat": 4,
 "nbformat_minor": 2
}
